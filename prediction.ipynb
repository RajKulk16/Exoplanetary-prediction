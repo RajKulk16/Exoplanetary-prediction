{
 "cells": [
  {
   "cell_type": "code",
   "execution_count": 45,
   "id": "50022010",
   "metadata": {},
   "outputs": [],
   "source": [
    "import numpy as np\n",
    "import pandas as pd\n",
    "from sklearn.decomposition import PCA\n",
    "from pandas_profiling import ProfileReport\n",
    "import warnings\n",
    "import matplotlib.pyplot as plt\n",
    "import seaborn as sns\n",
    "from sklearn.ensemble import ExtraTreesClassifier, RandomForestClassifier, HistGradientBoostingClassifier\n",
    "from sklearn.tree import DecisionTreeClassifier\n",
    "from statsmodels.stats.outliers_influence import variance_inflation_factor\n",
    "from xgboost import XGBClassifier\n",
    "from sklearn.preprocessing import StandardScaler, LabelEncoder\n",
    "from sklearn.model_selection import train_test_split, RandomizedSearchCV, StratifiedKFold, cross_val_score\n",
    "from imblearn.combine import SMOTETomek\n",
    "from collections import Counter\n",
    "from sklearn.metrics import accuracy_score, confusion_matrix\n",
    "from sklearn.linear_model import LogisticRegression\n",
    "from sklearn.svm import NuSVC\n",
    "from sklearn.neighbors import KNeighborsClassifier\n",
    "import lightgbm\n",
    "\n",
    "warnings.simplefilter('ignore')\n",
    "%matplotlib inline"
   ]
  },
  {
   "cell_type": "code",
   "execution_count": 22,
   "id": "f30305d1",
   "metadata": {},
   "outputs": [],
   "source": [
    "data = pd.read_csv('exoTrain.csv')"
   ]
  },
  {
   "cell_type": "code",
   "execution_count": 23,
   "id": "878982d6",
   "metadata": {},
   "outputs": [
    {
     "data": {
      "text/html": [
       "<div>\n",
       "<style scoped>\n",
       "    .dataframe tbody tr th:only-of-type {\n",
       "        vertical-align: middle;\n",
       "    }\n",
       "\n",
       "    .dataframe tbody tr th {\n",
       "        vertical-align: top;\n",
       "    }\n",
       "\n",
       "    .dataframe thead th {\n",
       "        text-align: right;\n",
       "    }\n",
       "</style>\n",
       "<table border=\"1\" class=\"dataframe\">\n",
       "  <thead>\n",
       "    <tr style=\"text-align: right;\">\n",
       "      <th></th>\n",
       "      <th>LABEL</th>\n",
       "      <th>FLUX.1</th>\n",
       "      <th>FLUX.2</th>\n",
       "      <th>FLUX.3</th>\n",
       "      <th>FLUX.4</th>\n",
       "      <th>FLUX.5</th>\n",
       "      <th>FLUX.6</th>\n",
       "      <th>FLUX.7</th>\n",
       "      <th>FLUX.8</th>\n",
       "      <th>FLUX.9</th>\n",
       "      <th>...</th>\n",
       "      <th>FLUX.3188</th>\n",
       "      <th>FLUX.3189</th>\n",
       "      <th>FLUX.3190</th>\n",
       "      <th>FLUX.3191</th>\n",
       "      <th>FLUX.3192</th>\n",
       "      <th>FLUX.3193</th>\n",
       "      <th>FLUX.3194</th>\n",
       "      <th>FLUX.3195</th>\n",
       "      <th>FLUX.3196</th>\n",
       "      <th>FLUX.3197</th>\n",
       "    </tr>\n",
       "  </thead>\n",
       "  <tbody>\n",
       "    <tr>\n",
       "      <th>0</th>\n",
       "      <td>2</td>\n",
       "      <td>93.85</td>\n",
       "      <td>83.81</td>\n",
       "      <td>20.10</td>\n",
       "      <td>-26.98</td>\n",
       "      <td>-39.56</td>\n",
       "      <td>-124.71</td>\n",
       "      <td>-135.18</td>\n",
       "      <td>-96.27</td>\n",
       "      <td>-79.89</td>\n",
       "      <td>...</td>\n",
       "      <td>-78.07</td>\n",
       "      <td>-102.15</td>\n",
       "      <td>-102.15</td>\n",
       "      <td>25.13</td>\n",
       "      <td>48.57</td>\n",
       "      <td>92.54</td>\n",
       "      <td>39.32</td>\n",
       "      <td>61.42</td>\n",
       "      <td>5.08</td>\n",
       "      <td>-39.54</td>\n",
       "    </tr>\n",
       "    <tr>\n",
       "      <th>1</th>\n",
       "      <td>2</td>\n",
       "      <td>-38.88</td>\n",
       "      <td>-33.83</td>\n",
       "      <td>-58.54</td>\n",
       "      <td>-40.09</td>\n",
       "      <td>-79.31</td>\n",
       "      <td>-72.81</td>\n",
       "      <td>-86.55</td>\n",
       "      <td>-85.33</td>\n",
       "      <td>-83.97</td>\n",
       "      <td>...</td>\n",
       "      <td>-3.28</td>\n",
       "      <td>-32.21</td>\n",
       "      <td>-32.21</td>\n",
       "      <td>-24.89</td>\n",
       "      <td>-4.86</td>\n",
       "      <td>0.76</td>\n",
       "      <td>-11.70</td>\n",
       "      <td>6.46</td>\n",
       "      <td>16.00</td>\n",
       "      <td>19.93</td>\n",
       "    </tr>\n",
       "    <tr>\n",
       "      <th>2</th>\n",
       "      <td>2</td>\n",
       "      <td>532.64</td>\n",
       "      <td>535.92</td>\n",
       "      <td>513.73</td>\n",
       "      <td>496.92</td>\n",
       "      <td>456.45</td>\n",
       "      <td>466.00</td>\n",
       "      <td>464.50</td>\n",
       "      <td>486.39</td>\n",
       "      <td>436.56</td>\n",
       "      <td>...</td>\n",
       "      <td>-71.69</td>\n",
       "      <td>13.31</td>\n",
       "      <td>13.31</td>\n",
       "      <td>-29.89</td>\n",
       "      <td>-20.88</td>\n",
       "      <td>5.06</td>\n",
       "      <td>-11.80</td>\n",
       "      <td>-28.91</td>\n",
       "      <td>-70.02</td>\n",
       "      <td>-96.67</td>\n",
       "    </tr>\n",
       "    <tr>\n",
       "      <th>3</th>\n",
       "      <td>2</td>\n",
       "      <td>326.52</td>\n",
       "      <td>347.39</td>\n",
       "      <td>302.35</td>\n",
       "      <td>298.13</td>\n",
       "      <td>317.74</td>\n",
       "      <td>312.70</td>\n",
       "      <td>322.33</td>\n",
       "      <td>311.31</td>\n",
       "      <td>312.42</td>\n",
       "      <td>...</td>\n",
       "      <td>5.71</td>\n",
       "      <td>-3.73</td>\n",
       "      <td>-3.73</td>\n",
       "      <td>30.05</td>\n",
       "      <td>20.03</td>\n",
       "      <td>-12.67</td>\n",
       "      <td>-8.77</td>\n",
       "      <td>-17.31</td>\n",
       "      <td>-17.35</td>\n",
       "      <td>13.98</td>\n",
       "    </tr>\n",
       "    <tr>\n",
       "      <th>4</th>\n",
       "      <td>2</td>\n",
       "      <td>-1107.21</td>\n",
       "      <td>-1112.59</td>\n",
       "      <td>-1118.95</td>\n",
       "      <td>-1095.10</td>\n",
       "      <td>-1057.55</td>\n",
       "      <td>-1034.48</td>\n",
       "      <td>-998.34</td>\n",
       "      <td>-1022.71</td>\n",
       "      <td>-989.57</td>\n",
       "      <td>...</td>\n",
       "      <td>-594.37</td>\n",
       "      <td>-401.66</td>\n",
       "      <td>-401.66</td>\n",
       "      <td>-357.24</td>\n",
       "      <td>-443.76</td>\n",
       "      <td>-438.54</td>\n",
       "      <td>-399.71</td>\n",
       "      <td>-384.65</td>\n",
       "      <td>-411.79</td>\n",
       "      <td>-510.54</td>\n",
       "    </tr>\n",
       "    <tr>\n",
       "      <th>...</th>\n",
       "      <td>...</td>\n",
       "      <td>...</td>\n",
       "      <td>...</td>\n",
       "      <td>...</td>\n",
       "      <td>...</td>\n",
       "      <td>...</td>\n",
       "      <td>...</td>\n",
       "      <td>...</td>\n",
       "      <td>...</td>\n",
       "      <td>...</td>\n",
       "      <td>...</td>\n",
       "      <td>...</td>\n",
       "      <td>...</td>\n",
       "      <td>...</td>\n",
       "      <td>...</td>\n",
       "      <td>...</td>\n",
       "      <td>...</td>\n",
       "      <td>...</td>\n",
       "      <td>...</td>\n",
       "      <td>...</td>\n",
       "      <td>...</td>\n",
       "    </tr>\n",
       "    <tr>\n",
       "      <th>5082</th>\n",
       "      <td>1</td>\n",
       "      <td>-91.91</td>\n",
       "      <td>-92.97</td>\n",
       "      <td>-78.76</td>\n",
       "      <td>-97.33</td>\n",
       "      <td>-68.00</td>\n",
       "      <td>-68.24</td>\n",
       "      <td>-75.48</td>\n",
       "      <td>-49.25</td>\n",
       "      <td>-30.92</td>\n",
       "      <td>...</td>\n",
       "      <td>139.95</td>\n",
       "      <td>147.26</td>\n",
       "      <td>156.95</td>\n",
       "      <td>155.64</td>\n",
       "      <td>156.36</td>\n",
       "      <td>151.75</td>\n",
       "      <td>-24.45</td>\n",
       "      <td>-17.00</td>\n",
       "      <td>3.23</td>\n",
       "      <td>19.28</td>\n",
       "    </tr>\n",
       "    <tr>\n",
       "      <th>5083</th>\n",
       "      <td>1</td>\n",
       "      <td>989.75</td>\n",
       "      <td>891.01</td>\n",
       "      <td>908.53</td>\n",
       "      <td>851.83</td>\n",
       "      <td>755.11</td>\n",
       "      <td>615.78</td>\n",
       "      <td>595.77</td>\n",
       "      <td>458.87</td>\n",
       "      <td>492.84</td>\n",
       "      <td>...</td>\n",
       "      <td>-26.50</td>\n",
       "      <td>-4.84</td>\n",
       "      <td>-76.30</td>\n",
       "      <td>-37.84</td>\n",
       "      <td>-153.83</td>\n",
       "      <td>-136.16</td>\n",
       "      <td>38.03</td>\n",
       "      <td>100.28</td>\n",
       "      <td>-45.64</td>\n",
       "      <td>35.58</td>\n",
       "    </tr>\n",
       "    <tr>\n",
       "      <th>5084</th>\n",
       "      <td>1</td>\n",
       "      <td>273.39</td>\n",
       "      <td>278.00</td>\n",
       "      <td>261.73</td>\n",
       "      <td>236.99</td>\n",
       "      <td>280.73</td>\n",
       "      <td>264.90</td>\n",
       "      <td>252.92</td>\n",
       "      <td>254.88</td>\n",
       "      <td>237.60</td>\n",
       "      <td>...</td>\n",
       "      <td>-26.82</td>\n",
       "      <td>-53.89</td>\n",
       "      <td>-48.71</td>\n",
       "      <td>30.99</td>\n",
       "      <td>15.96</td>\n",
       "      <td>-3.47</td>\n",
       "      <td>65.73</td>\n",
       "      <td>88.42</td>\n",
       "      <td>79.07</td>\n",
       "      <td>79.43</td>\n",
       "    </tr>\n",
       "    <tr>\n",
       "      <th>5085</th>\n",
       "      <td>1</td>\n",
       "      <td>3.82</td>\n",
       "      <td>2.09</td>\n",
       "      <td>-3.29</td>\n",
       "      <td>-2.88</td>\n",
       "      <td>1.66</td>\n",
       "      <td>-0.75</td>\n",
       "      <td>3.85</td>\n",
       "      <td>-0.03</td>\n",
       "      <td>3.28</td>\n",
       "      <td>...</td>\n",
       "      <td>10.86</td>\n",
       "      <td>-3.23</td>\n",
       "      <td>-5.10</td>\n",
       "      <td>-4.61</td>\n",
       "      <td>-9.82</td>\n",
       "      <td>-1.50</td>\n",
       "      <td>-4.65</td>\n",
       "      <td>-14.55</td>\n",
       "      <td>-6.41</td>\n",
       "      <td>-2.55</td>\n",
       "    </tr>\n",
       "    <tr>\n",
       "      <th>5086</th>\n",
       "      <td>1</td>\n",
       "      <td>323.28</td>\n",
       "      <td>306.36</td>\n",
       "      <td>293.16</td>\n",
       "      <td>287.67</td>\n",
       "      <td>249.89</td>\n",
       "      <td>218.30</td>\n",
       "      <td>188.86</td>\n",
       "      <td>178.93</td>\n",
       "      <td>118.93</td>\n",
       "      <td>...</td>\n",
       "      <td>71.19</td>\n",
       "      <td>0.97</td>\n",
       "      <td>55.20</td>\n",
       "      <td>-1.63</td>\n",
       "      <td>-5.50</td>\n",
       "      <td>-25.33</td>\n",
       "      <td>-41.31</td>\n",
       "      <td>-16.72</td>\n",
       "      <td>-14.09</td>\n",
       "      <td>27.82</td>\n",
       "    </tr>\n",
       "  </tbody>\n",
       "</table>\n",
       "<p>5087 rows × 3198 columns</p>\n",
       "</div>"
      ],
      "text/plain": [
       "      LABEL   FLUX.1   FLUX.2   FLUX.3   FLUX.4   FLUX.5   FLUX.6  FLUX.7  \\\n",
       "0         2    93.85    83.81    20.10   -26.98   -39.56  -124.71 -135.18   \n",
       "1         2   -38.88   -33.83   -58.54   -40.09   -79.31   -72.81  -86.55   \n",
       "2         2   532.64   535.92   513.73   496.92   456.45   466.00  464.50   \n",
       "3         2   326.52   347.39   302.35   298.13   317.74   312.70  322.33   \n",
       "4         2 -1107.21 -1112.59 -1118.95 -1095.10 -1057.55 -1034.48 -998.34   \n",
       "...     ...      ...      ...      ...      ...      ...      ...     ...   \n",
       "5082      1   -91.91   -92.97   -78.76   -97.33   -68.00   -68.24  -75.48   \n",
       "5083      1   989.75   891.01   908.53   851.83   755.11   615.78  595.77   \n",
       "5084      1   273.39   278.00   261.73   236.99   280.73   264.90  252.92   \n",
       "5085      1     3.82     2.09    -3.29    -2.88     1.66    -0.75    3.85   \n",
       "5086      1   323.28   306.36   293.16   287.67   249.89   218.30  188.86   \n",
       "\n",
       "       FLUX.8  FLUX.9  ...  FLUX.3188  FLUX.3189  FLUX.3190  FLUX.3191  \\\n",
       "0      -96.27  -79.89  ...     -78.07    -102.15    -102.15      25.13   \n",
       "1      -85.33  -83.97  ...      -3.28     -32.21     -32.21     -24.89   \n",
       "2      486.39  436.56  ...     -71.69      13.31      13.31     -29.89   \n",
       "3      311.31  312.42  ...       5.71      -3.73      -3.73      30.05   \n",
       "4    -1022.71 -989.57  ...    -594.37    -401.66    -401.66    -357.24   \n",
       "...       ...     ...  ...        ...        ...        ...        ...   \n",
       "5082   -49.25  -30.92  ...     139.95     147.26     156.95     155.64   \n",
       "5083   458.87  492.84  ...     -26.50      -4.84     -76.30     -37.84   \n",
       "5084   254.88  237.60  ...     -26.82     -53.89     -48.71      30.99   \n",
       "5085    -0.03    3.28  ...      10.86      -3.23      -5.10      -4.61   \n",
       "5086   178.93  118.93  ...      71.19       0.97      55.20      -1.63   \n",
       "\n",
       "      FLUX.3192  FLUX.3193  FLUX.3194  FLUX.3195  FLUX.3196  FLUX.3197  \n",
       "0         48.57      92.54      39.32      61.42       5.08     -39.54  \n",
       "1         -4.86       0.76     -11.70       6.46      16.00      19.93  \n",
       "2        -20.88       5.06     -11.80     -28.91     -70.02     -96.67  \n",
       "3         20.03     -12.67      -8.77     -17.31     -17.35      13.98  \n",
       "4       -443.76    -438.54    -399.71    -384.65    -411.79    -510.54  \n",
       "...         ...        ...        ...        ...        ...        ...  \n",
       "5082     156.36     151.75     -24.45     -17.00       3.23      19.28  \n",
       "5083    -153.83    -136.16      38.03     100.28     -45.64      35.58  \n",
       "5084      15.96      -3.47      65.73      88.42      79.07      79.43  \n",
       "5085      -9.82      -1.50      -4.65     -14.55      -6.41      -2.55  \n",
       "5086      -5.50     -25.33     -41.31     -16.72     -14.09      27.82  \n",
       "\n",
       "[5087 rows x 3198 columns]"
      ]
     },
     "execution_count": 23,
     "metadata": {},
     "output_type": "execute_result"
    }
   ],
   "source": [
    "data"
   ]
  },
  {
   "cell_type": "code",
   "execution_count": 4,
   "id": "95b70872",
   "metadata": {},
   "outputs": [
    {
     "data": {
      "text/plain": [
       "[]"
      ]
     },
     "execution_count": 4,
     "metadata": {},
     "output_type": "execute_result"
    }
   ],
   "source": [
    "data.columns[data.isna().any()].tolist()"
   ]
  },
  {
   "cell_type": "code",
   "execution_count": 5,
   "id": "fd391693",
   "metadata": {},
   "outputs": [],
   "source": [
    "X = data.iloc[:,1:]\n",
    "y = data.iloc[:,0]"
   ]
  },
  {
   "cell_type": "code",
   "execution_count": 6,
   "id": "e5ba3b2e",
   "metadata": {},
   "outputs": [
    {
     "data": {
      "text/html": [
       "<div>\n",
       "<style scoped>\n",
       "    .dataframe tbody tr th:only-of-type {\n",
       "        vertical-align: middle;\n",
       "    }\n",
       "\n",
       "    .dataframe tbody tr th {\n",
       "        vertical-align: top;\n",
       "    }\n",
       "\n",
       "    .dataframe thead th {\n",
       "        text-align: right;\n",
       "    }\n",
       "</style>\n",
       "<table border=\"1\" class=\"dataframe\">\n",
       "  <thead>\n",
       "    <tr style=\"text-align: right;\">\n",
       "      <th></th>\n",
       "      <th>FLUX.1</th>\n",
       "      <th>FLUX.2</th>\n",
       "      <th>FLUX.3</th>\n",
       "      <th>FLUX.4</th>\n",
       "      <th>FLUX.5</th>\n",
       "      <th>FLUX.6</th>\n",
       "      <th>FLUX.7</th>\n",
       "      <th>FLUX.8</th>\n",
       "      <th>FLUX.9</th>\n",
       "      <th>FLUX.10</th>\n",
       "      <th>...</th>\n",
       "      <th>FLUX.3188</th>\n",
       "      <th>FLUX.3189</th>\n",
       "      <th>FLUX.3190</th>\n",
       "      <th>FLUX.3191</th>\n",
       "      <th>FLUX.3192</th>\n",
       "      <th>FLUX.3193</th>\n",
       "      <th>FLUX.3194</th>\n",
       "      <th>FLUX.3195</th>\n",
       "      <th>FLUX.3196</th>\n",
       "      <th>FLUX.3197</th>\n",
       "    </tr>\n",
       "  </thead>\n",
       "  <tbody>\n",
       "    <tr>\n",
       "      <th>0</th>\n",
       "      <td>93.85</td>\n",
       "      <td>83.81</td>\n",
       "      <td>20.10</td>\n",
       "      <td>-26.98</td>\n",
       "      <td>-39.56</td>\n",
       "      <td>-124.71</td>\n",
       "      <td>-135.18</td>\n",
       "      <td>-96.27</td>\n",
       "      <td>-79.89</td>\n",
       "      <td>-160.17</td>\n",
       "      <td>...</td>\n",
       "      <td>-78.07</td>\n",
       "      <td>-102.15</td>\n",
       "      <td>-102.15</td>\n",
       "      <td>25.13</td>\n",
       "      <td>48.57</td>\n",
       "      <td>92.54</td>\n",
       "      <td>39.32</td>\n",
       "      <td>61.42</td>\n",
       "      <td>5.08</td>\n",
       "      <td>-39.54</td>\n",
       "    </tr>\n",
       "    <tr>\n",
       "      <th>1</th>\n",
       "      <td>-38.88</td>\n",
       "      <td>-33.83</td>\n",
       "      <td>-58.54</td>\n",
       "      <td>-40.09</td>\n",
       "      <td>-79.31</td>\n",
       "      <td>-72.81</td>\n",
       "      <td>-86.55</td>\n",
       "      <td>-85.33</td>\n",
       "      <td>-83.97</td>\n",
       "      <td>-73.38</td>\n",
       "      <td>...</td>\n",
       "      <td>-3.28</td>\n",
       "      <td>-32.21</td>\n",
       "      <td>-32.21</td>\n",
       "      <td>-24.89</td>\n",
       "      <td>-4.86</td>\n",
       "      <td>0.76</td>\n",
       "      <td>-11.70</td>\n",
       "      <td>6.46</td>\n",
       "      <td>16.00</td>\n",
       "      <td>19.93</td>\n",
       "    </tr>\n",
       "    <tr>\n",
       "      <th>2</th>\n",
       "      <td>532.64</td>\n",
       "      <td>535.92</td>\n",
       "      <td>513.73</td>\n",
       "      <td>496.92</td>\n",
       "      <td>456.45</td>\n",
       "      <td>466.00</td>\n",
       "      <td>464.50</td>\n",
       "      <td>486.39</td>\n",
       "      <td>436.56</td>\n",
       "      <td>484.39</td>\n",
       "      <td>...</td>\n",
       "      <td>-71.69</td>\n",
       "      <td>13.31</td>\n",
       "      <td>13.31</td>\n",
       "      <td>-29.89</td>\n",
       "      <td>-20.88</td>\n",
       "      <td>5.06</td>\n",
       "      <td>-11.80</td>\n",
       "      <td>-28.91</td>\n",
       "      <td>-70.02</td>\n",
       "      <td>-96.67</td>\n",
       "    </tr>\n",
       "    <tr>\n",
       "      <th>3</th>\n",
       "      <td>326.52</td>\n",
       "      <td>347.39</td>\n",
       "      <td>302.35</td>\n",
       "      <td>298.13</td>\n",
       "      <td>317.74</td>\n",
       "      <td>312.70</td>\n",
       "      <td>322.33</td>\n",
       "      <td>311.31</td>\n",
       "      <td>312.42</td>\n",
       "      <td>323.33</td>\n",
       "      <td>...</td>\n",
       "      <td>5.71</td>\n",
       "      <td>-3.73</td>\n",
       "      <td>-3.73</td>\n",
       "      <td>30.05</td>\n",
       "      <td>20.03</td>\n",
       "      <td>-12.67</td>\n",
       "      <td>-8.77</td>\n",
       "      <td>-17.31</td>\n",
       "      <td>-17.35</td>\n",
       "      <td>13.98</td>\n",
       "    </tr>\n",
       "    <tr>\n",
       "      <th>4</th>\n",
       "      <td>-1107.21</td>\n",
       "      <td>-1112.59</td>\n",
       "      <td>-1118.95</td>\n",
       "      <td>-1095.10</td>\n",
       "      <td>-1057.55</td>\n",
       "      <td>-1034.48</td>\n",
       "      <td>-998.34</td>\n",
       "      <td>-1022.71</td>\n",
       "      <td>-989.57</td>\n",
       "      <td>-970.88</td>\n",
       "      <td>...</td>\n",
       "      <td>-594.37</td>\n",
       "      <td>-401.66</td>\n",
       "      <td>-401.66</td>\n",
       "      <td>-357.24</td>\n",
       "      <td>-443.76</td>\n",
       "      <td>-438.54</td>\n",
       "      <td>-399.71</td>\n",
       "      <td>-384.65</td>\n",
       "      <td>-411.79</td>\n",
       "      <td>-510.54</td>\n",
       "    </tr>\n",
       "    <tr>\n",
       "      <th>...</th>\n",
       "      <td>...</td>\n",
       "      <td>...</td>\n",
       "      <td>...</td>\n",
       "      <td>...</td>\n",
       "      <td>...</td>\n",
       "      <td>...</td>\n",
       "      <td>...</td>\n",
       "      <td>...</td>\n",
       "      <td>...</td>\n",
       "      <td>...</td>\n",
       "      <td>...</td>\n",
       "      <td>...</td>\n",
       "      <td>...</td>\n",
       "      <td>...</td>\n",
       "      <td>...</td>\n",
       "      <td>...</td>\n",
       "      <td>...</td>\n",
       "      <td>...</td>\n",
       "      <td>...</td>\n",
       "      <td>...</td>\n",
       "      <td>...</td>\n",
       "    </tr>\n",
       "    <tr>\n",
       "      <th>5082</th>\n",
       "      <td>-91.91</td>\n",
       "      <td>-92.97</td>\n",
       "      <td>-78.76</td>\n",
       "      <td>-97.33</td>\n",
       "      <td>-68.00</td>\n",
       "      <td>-68.24</td>\n",
       "      <td>-75.48</td>\n",
       "      <td>-49.25</td>\n",
       "      <td>-30.92</td>\n",
       "      <td>-11.88</td>\n",
       "      <td>...</td>\n",
       "      <td>139.95</td>\n",
       "      <td>147.26</td>\n",
       "      <td>156.95</td>\n",
       "      <td>155.64</td>\n",
       "      <td>156.36</td>\n",
       "      <td>151.75</td>\n",
       "      <td>-24.45</td>\n",
       "      <td>-17.00</td>\n",
       "      <td>3.23</td>\n",
       "      <td>19.28</td>\n",
       "    </tr>\n",
       "    <tr>\n",
       "      <th>5083</th>\n",
       "      <td>989.75</td>\n",
       "      <td>891.01</td>\n",
       "      <td>908.53</td>\n",
       "      <td>851.83</td>\n",
       "      <td>755.11</td>\n",
       "      <td>615.78</td>\n",
       "      <td>595.77</td>\n",
       "      <td>458.87</td>\n",
       "      <td>492.84</td>\n",
       "      <td>384.34</td>\n",
       "      <td>...</td>\n",
       "      <td>-26.50</td>\n",
       "      <td>-4.84</td>\n",
       "      <td>-76.30</td>\n",
       "      <td>-37.84</td>\n",
       "      <td>-153.83</td>\n",
       "      <td>-136.16</td>\n",
       "      <td>38.03</td>\n",
       "      <td>100.28</td>\n",
       "      <td>-45.64</td>\n",
       "      <td>35.58</td>\n",
       "    </tr>\n",
       "    <tr>\n",
       "      <th>5084</th>\n",
       "      <td>273.39</td>\n",
       "      <td>278.00</td>\n",
       "      <td>261.73</td>\n",
       "      <td>236.99</td>\n",
       "      <td>280.73</td>\n",
       "      <td>264.90</td>\n",
       "      <td>252.92</td>\n",
       "      <td>254.88</td>\n",
       "      <td>237.60</td>\n",
       "      <td>238.51</td>\n",
       "      <td>...</td>\n",
       "      <td>-26.82</td>\n",
       "      <td>-53.89</td>\n",
       "      <td>-48.71</td>\n",
       "      <td>30.99</td>\n",
       "      <td>15.96</td>\n",
       "      <td>-3.47</td>\n",
       "      <td>65.73</td>\n",
       "      <td>88.42</td>\n",
       "      <td>79.07</td>\n",
       "      <td>79.43</td>\n",
       "    </tr>\n",
       "    <tr>\n",
       "      <th>5085</th>\n",
       "      <td>3.82</td>\n",
       "      <td>2.09</td>\n",
       "      <td>-3.29</td>\n",
       "      <td>-2.88</td>\n",
       "      <td>1.66</td>\n",
       "      <td>-0.75</td>\n",
       "      <td>3.85</td>\n",
       "      <td>-0.03</td>\n",
       "      <td>3.28</td>\n",
       "      <td>6.29</td>\n",
       "      <td>...</td>\n",
       "      <td>10.86</td>\n",
       "      <td>-3.23</td>\n",
       "      <td>-5.10</td>\n",
       "      <td>-4.61</td>\n",
       "      <td>-9.82</td>\n",
       "      <td>-1.50</td>\n",
       "      <td>-4.65</td>\n",
       "      <td>-14.55</td>\n",
       "      <td>-6.41</td>\n",
       "      <td>-2.55</td>\n",
       "    </tr>\n",
       "    <tr>\n",
       "      <th>5086</th>\n",
       "      <td>323.28</td>\n",
       "      <td>306.36</td>\n",
       "      <td>293.16</td>\n",
       "      <td>287.67</td>\n",
       "      <td>249.89</td>\n",
       "      <td>218.30</td>\n",
       "      <td>188.86</td>\n",
       "      <td>178.93</td>\n",
       "      <td>118.93</td>\n",
       "      <td>130.68</td>\n",
       "      <td>...</td>\n",
       "      <td>71.19</td>\n",
       "      <td>0.97</td>\n",
       "      <td>55.20</td>\n",
       "      <td>-1.63</td>\n",
       "      <td>-5.50</td>\n",
       "      <td>-25.33</td>\n",
       "      <td>-41.31</td>\n",
       "      <td>-16.72</td>\n",
       "      <td>-14.09</td>\n",
       "      <td>27.82</td>\n",
       "    </tr>\n",
       "  </tbody>\n",
       "</table>\n",
       "<p>5087 rows × 3197 columns</p>\n",
       "</div>"
      ],
      "text/plain": [
       "       FLUX.1   FLUX.2   FLUX.3   FLUX.4   FLUX.5   FLUX.6  FLUX.7   FLUX.8  \\\n",
       "0       93.85    83.81    20.10   -26.98   -39.56  -124.71 -135.18   -96.27   \n",
       "1      -38.88   -33.83   -58.54   -40.09   -79.31   -72.81  -86.55   -85.33   \n",
       "2      532.64   535.92   513.73   496.92   456.45   466.00  464.50   486.39   \n",
       "3      326.52   347.39   302.35   298.13   317.74   312.70  322.33   311.31   \n",
       "4    -1107.21 -1112.59 -1118.95 -1095.10 -1057.55 -1034.48 -998.34 -1022.71   \n",
       "...       ...      ...      ...      ...      ...      ...     ...      ...   \n",
       "5082   -91.91   -92.97   -78.76   -97.33   -68.00   -68.24  -75.48   -49.25   \n",
       "5083   989.75   891.01   908.53   851.83   755.11   615.78  595.77   458.87   \n",
       "5084   273.39   278.00   261.73   236.99   280.73   264.90  252.92   254.88   \n",
       "5085     3.82     2.09    -3.29    -2.88     1.66    -0.75    3.85    -0.03   \n",
       "5086   323.28   306.36   293.16   287.67   249.89   218.30  188.86   178.93   \n",
       "\n",
       "      FLUX.9  FLUX.10  ...  FLUX.3188  FLUX.3189  FLUX.3190  FLUX.3191  \\\n",
       "0     -79.89  -160.17  ...     -78.07    -102.15    -102.15      25.13   \n",
       "1     -83.97   -73.38  ...      -3.28     -32.21     -32.21     -24.89   \n",
       "2     436.56   484.39  ...     -71.69      13.31      13.31     -29.89   \n",
       "3     312.42   323.33  ...       5.71      -3.73      -3.73      30.05   \n",
       "4    -989.57  -970.88  ...    -594.37    -401.66    -401.66    -357.24   \n",
       "...      ...      ...  ...        ...        ...        ...        ...   \n",
       "5082  -30.92   -11.88  ...     139.95     147.26     156.95     155.64   \n",
       "5083  492.84   384.34  ...     -26.50      -4.84     -76.30     -37.84   \n",
       "5084  237.60   238.51  ...     -26.82     -53.89     -48.71      30.99   \n",
       "5085    3.28     6.29  ...      10.86      -3.23      -5.10      -4.61   \n",
       "5086  118.93   130.68  ...      71.19       0.97      55.20      -1.63   \n",
       "\n",
       "      FLUX.3192  FLUX.3193  FLUX.3194  FLUX.3195  FLUX.3196  FLUX.3197  \n",
       "0         48.57      92.54      39.32      61.42       5.08     -39.54  \n",
       "1         -4.86       0.76     -11.70       6.46      16.00      19.93  \n",
       "2        -20.88       5.06     -11.80     -28.91     -70.02     -96.67  \n",
       "3         20.03     -12.67      -8.77     -17.31     -17.35      13.98  \n",
       "4       -443.76    -438.54    -399.71    -384.65    -411.79    -510.54  \n",
       "...         ...        ...        ...        ...        ...        ...  \n",
       "5082     156.36     151.75     -24.45     -17.00       3.23      19.28  \n",
       "5083    -153.83    -136.16      38.03     100.28     -45.64      35.58  \n",
       "5084      15.96      -3.47      65.73      88.42      79.07      79.43  \n",
       "5085      -9.82      -1.50      -4.65     -14.55      -6.41      -2.55  \n",
       "5086      -5.50     -25.33     -41.31     -16.72     -14.09      27.82  \n",
       "\n",
       "[5087 rows x 3197 columns]"
      ]
     },
     "execution_count": 6,
     "metadata": {},
     "output_type": "execute_result"
    }
   ],
   "source": [
    "X"
   ]
  },
  {
   "cell_type": "code",
   "execution_count": 7,
   "id": "20cd6b4a",
   "metadata": {},
   "outputs": [
    {
     "data": {
      "text/plain": [
       "0       2\n",
       "1       2\n",
       "2       2\n",
       "3       2\n",
       "4       2\n",
       "       ..\n",
       "5082    1\n",
       "5083    1\n",
       "5084    1\n",
       "5085    1\n",
       "5086    1\n",
       "Name: LABEL, Length: 5087, dtype: int64"
      ]
     },
     "execution_count": 7,
     "metadata": {},
     "output_type": "execute_result"
    }
   ],
   "source": [
    "y"
   ]
  },
  {
   "cell_type": "markdown",
   "id": "6164eed3",
   "metadata": {},
   "source": [
    "# PCA"
   ]
  },
  {
   "cell_type": "code",
   "execution_count": 8,
   "id": "48185501",
   "metadata": {},
   "outputs": [
    {
     "data": {
      "text/plain": [
       "((5087, 3198), (5087, 13))"
      ]
     },
     "execution_count": 8,
     "metadata": {},
     "output_type": "execute_result"
    }
   ],
   "source": [
    "pca = PCA(n_components=0.99)\n",
    "pca.fit(X)\n",
    "df = pca.transform(X)\n",
    "\n",
    "data.shape, df.shape"
   ]
  },
  {
   "cell_type": "code",
   "execution_count": 9,
   "id": "685a2996",
   "metadata": {},
   "outputs": [
    {
     "data": {
      "text/plain": [
       "Text(0, 0.5, 'cumulative explained variance')"
      ]
     },
     "execution_count": 9,
     "metadata": {},
     "output_type": "execute_result"
    },
    {
     "data": {
      "image/png": "[encoded data removed]",
      "text/plain": [
       "<Figure size 640x480 with 1 Axes>"
      ]
     },
     "metadata": {},
     "output_type": "display_data"
    }
   ],
   "source": [
    "plt.plot(np.cumsum(pca.explained_variance_ratio_))\n",
    "plt.xlabel('number of components')\n",
    "plt.ylabel('cumulative explained variance')"
   ]
  },
  {
   "cell_type": "code",
   "execution_count": 10,
   "id": "007ca7ef",
   "metadata": {},
   "outputs": [
    {
     "data": {
      "text/html": [
       "<div>\n",
       "<style scoped>\n",
       "    .dataframe tbody tr th:only-of-type {\n",
       "        vertical-align: middle;\n",
       "    }\n",
       "\n",
       "    .dataframe tbody tr th {\n",
       "        vertical-align: top;\n",
       "    }\n",
       "\n",
       "    .dataframe thead th {\n",
       "        text-align: right;\n",
       "    }\n",
       "</style>\n",
       "<table border=\"1\" class=\"dataframe\">\n",
       "  <thead>\n",
       "    <tr style=\"text-align: right;\">\n",
       "      <th></th>\n",
       "      <th>0</th>\n",
       "      <th>1</th>\n",
       "      <th>2</th>\n",
       "      <th>3</th>\n",
       "      <th>4</th>\n",
       "      <th>5</th>\n",
       "      <th>6</th>\n",
       "      <th>7</th>\n",
       "      <th>8</th>\n",
       "      <th>9</th>\n",
       "      <th>10</th>\n",
       "      <th>11</th>\n",
       "      <th>12</th>\n",
       "    </tr>\n",
       "  </thead>\n",
       "  <tbody>\n",
       "    <tr>\n",
       "      <th>0</th>\n",
       "      <td>-17118.381618</td>\n",
       "      <td>-9499.913501</td>\n",
       "      <td>-7296.752142</td>\n",
       "      <td>-3620.897289</td>\n",
       "      <td>-1591.014817</td>\n",
       "      <td>-4065.915995</td>\n",
       "      <td>-711.455604</td>\n",
       "      <td>1049.192621</td>\n",
       "      <td>-1380.273658</td>\n",
       "      <td>-2364.676009</td>\n",
       "      <td>-1263.265456</td>\n",
       "      <td>-369.794444</td>\n",
       "      <td>-788.670397</td>\n",
       "    </tr>\n",
       "    <tr>\n",
       "      <th>1</th>\n",
       "      <td>-17320.754319</td>\n",
       "      <td>-10429.187751</td>\n",
       "      <td>-6595.723626</td>\n",
       "      <td>-4617.471580</td>\n",
       "      <td>-1417.697412</td>\n",
       "      <td>-3012.940417</td>\n",
       "      <td>-464.333969</td>\n",
       "      <td>1908.690487</td>\n",
       "      <td>-669.864330</td>\n",
       "      <td>-2391.866532</td>\n",
       "      <td>-1051.858398</td>\n",
       "      <td>-1354.474265</td>\n",
       "      <td>-885.763272</td>\n",
       "    </tr>\n",
       "    <tr>\n",
       "      <th>2</th>\n",
       "      <td>-18701.715911</td>\n",
       "      <td>-8528.953583</td>\n",
       "      <td>-9604.430173</td>\n",
       "      <td>-8051.507917</td>\n",
       "      <td>-4854.561022</td>\n",
       "      <td>-2563.338971</td>\n",
       "      <td>146.856947</td>\n",
       "      <td>2850.251108</td>\n",
       "      <td>1846.098706</td>\n",
       "      <td>-1440.592103</td>\n",
       "      <td>-1113.132106</td>\n",
       "      <td>-931.093781</td>\n",
       "      <td>-1061.561537</td>\n",
       "    </tr>\n",
       "    <tr>\n",
       "      <th>3</th>\n",
       "      <td>-17018.673864</td>\n",
       "      <td>-9954.822132</td>\n",
       "      <td>-6867.966350</td>\n",
       "      <td>-4890.353092</td>\n",
       "      <td>-2509.784733</td>\n",
       "      <td>-3282.593390</td>\n",
       "      <td>-438.307806</td>\n",
       "      <td>1102.462027</td>\n",
       "      <td>-806.251780</td>\n",
       "      <td>-2489.250126</td>\n",
       "      <td>-1087.828749</td>\n",
       "      <td>-1455.107821</td>\n",
       "      <td>-919.133497</td>\n",
       "    </tr>\n",
       "    <tr>\n",
       "      <th>4</th>\n",
       "      <td>-15370.335990</td>\n",
       "      <td>-15875.503503</td>\n",
       "      <td>-10508.694448</td>\n",
       "      <td>481.911654</td>\n",
       "      <td>7453.100233</td>\n",
       "      <td>-6444.769774</td>\n",
       "      <td>-274.807484</td>\n",
       "      <td>1469.613135</td>\n",
       "      <td>837.924523</td>\n",
       "      <td>-1299.059347</td>\n",
       "      <td>-1099.661210</td>\n",
       "      <td>-1299.634089</td>\n",
       "      <td>-1057.505691</td>\n",
       "    </tr>\n",
       "    <tr>\n",
       "      <th>...</th>\n",
       "      <td>...</td>\n",
       "      <td>...</td>\n",
       "      <td>...</td>\n",
       "      <td>...</td>\n",
       "      <td>...</td>\n",
       "      <td>...</td>\n",
       "      <td>...</td>\n",
       "      <td>...</td>\n",
       "      <td>...</td>\n",
       "      <td>...</td>\n",
       "      <td>...</td>\n",
       "      <td>...</td>\n",
       "      <td>...</td>\n",
       "    </tr>\n",
       "    <tr>\n",
       "      <th>5082</th>\n",
       "      <td>-14384.422169</td>\n",
       "      <td>-10552.728008</td>\n",
       "      <td>-6221.481720</td>\n",
       "      <td>-3985.519770</td>\n",
       "      <td>-905.022086</td>\n",
       "      <td>-3712.870181</td>\n",
       "      <td>-444.765717</td>\n",
       "      <td>1336.966777</td>\n",
       "      <td>-167.845770</td>\n",
       "      <td>-2596.097298</td>\n",
       "      <td>-1020.913507</td>\n",
       "      <td>-1370.576897</td>\n",
       "      <td>-812.355366</td>\n",
       "    </tr>\n",
       "    <tr>\n",
       "      <th>5083</th>\n",
       "      <td>-16234.711556</td>\n",
       "      <td>-8695.232033</td>\n",
       "      <td>-7355.812397</td>\n",
       "      <td>-4783.406199</td>\n",
       "      <td>303.109220</td>\n",
       "      <td>-4293.545384</td>\n",
       "      <td>-334.009068</td>\n",
       "      <td>1540.234627</td>\n",
       "      <td>473.149551</td>\n",
       "      <td>-1710.719773</td>\n",
       "      <td>-102.878324</td>\n",
       "      <td>1148.419498</td>\n",
       "      <td>-619.175581</td>\n",
       "    </tr>\n",
       "    <tr>\n",
       "      <th>5084</th>\n",
       "      <td>-17131.557875</td>\n",
       "      <td>-9538.888541</td>\n",
       "      <td>-6848.644377</td>\n",
       "      <td>-5344.463423</td>\n",
       "      <td>-758.393711</td>\n",
       "      <td>-3687.115526</td>\n",
       "      <td>-628.744805</td>\n",
       "      <td>1630.464146</td>\n",
       "      <td>-1024.893942</td>\n",
       "      <td>-2158.508801</td>\n",
       "      <td>-393.151632</td>\n",
       "      <td>-1441.684849</td>\n",
       "      <td>-892.841141</td>\n",
       "    </tr>\n",
       "    <tr>\n",
       "      <th>5085</th>\n",
       "      <td>-16976.559919</td>\n",
       "      <td>-9606.816261</td>\n",
       "      <td>-6998.530257</td>\n",
       "      <td>-4395.311402</td>\n",
       "      <td>-1078.238223</td>\n",
       "      <td>-3372.379823</td>\n",
       "      <td>-395.826239</td>\n",
       "      <td>1743.642203</td>\n",
       "      <td>-656.543165</td>\n",
       "      <td>-2416.784622</td>\n",
       "      <td>-1213.744110</td>\n",
       "      <td>-1177.626150</td>\n",
       "      <td>-907.943725</td>\n",
       "    </tr>\n",
       "    <tr>\n",
       "      <th>5086</th>\n",
       "      <td>-16778.792347</td>\n",
       "      <td>-9541.892785</td>\n",
       "      <td>-6889.329121</td>\n",
       "      <td>-4379.700616</td>\n",
       "      <td>-1473.615026</td>\n",
       "      <td>-3083.354556</td>\n",
       "      <td>-254.626483</td>\n",
       "      <td>2400.826443</td>\n",
       "      <td>-809.254518</td>\n",
       "      <td>-2534.354486</td>\n",
       "      <td>-1258.240092</td>\n",
       "      <td>-980.910562</td>\n",
       "      <td>-941.406153</td>\n",
       "    </tr>\n",
       "  </tbody>\n",
       "</table>\n",
       "<p>5087 rows × 13 columns</p>\n",
       "</div>"
      ],
      "text/plain": [
       "                0             1             2            3            4   \\\n",
       "0    -17118.381618  -9499.913501  -7296.752142 -3620.897289 -1591.014817   \n",
       "1    -17320.754319 -10429.187751  -6595.723626 -4617.471580 -1417.697412   \n",
       "2    -18701.715911  -8528.953583  -9604.430173 -8051.507917 -4854.561022   \n",
       "3    -17018.673864  -9954.822132  -6867.966350 -4890.353092 -2509.784733   \n",
       "4    -15370.335990 -15875.503503 -10508.694448   481.911654  7453.100233   \n",
       "...            ...           ...           ...          ...          ...   \n",
       "5082 -14384.422169 -10552.728008  -6221.481720 -3985.519770  -905.022086   \n",
       "5083 -16234.711556  -8695.232033  -7355.812397 -4783.406199   303.109220   \n",
       "5084 -17131.557875  -9538.888541  -6848.644377 -5344.463423  -758.393711   \n",
       "5085 -16976.559919  -9606.816261  -6998.530257 -4395.311402 -1078.238223   \n",
       "5086 -16778.792347  -9541.892785  -6889.329121 -4379.700616 -1473.615026   \n",
       "\n",
       "               5           6            7            8            9   \\\n",
       "0    -4065.915995 -711.455604  1049.192621 -1380.273658 -2364.676009   \n",
       "1    -3012.940417 -464.333969  1908.690487  -669.864330 -2391.866532   \n",
       "2    -2563.338971  146.856947  2850.251108  1846.098706 -1440.592103   \n",
       "3    -3282.593390 -438.307806  1102.462027  -806.251780 -2489.250126   \n",
       "4    -6444.769774 -274.807484  1469.613135   837.924523 -1299.059347   \n",
       "...           ...         ...          ...          ...          ...   \n",
       "5082 -3712.870181 -444.765717  1336.966777  -167.845770 -2596.097298   \n",
       "5083 -4293.545384 -334.009068  1540.234627   473.149551 -1710.719773   \n",
       "5084 -3687.115526 -628.744805  1630.464146 -1024.893942 -2158.508801   \n",
       "5085 -3372.379823 -395.826239  1743.642203  -656.543165 -2416.784622   \n",
       "5086 -3083.354556 -254.626483  2400.826443  -809.254518 -2534.354486   \n",
       "\n",
       "               10           11           12  \n",
       "0    -1263.265456  -369.794444  -788.670397  \n",
       "1    -1051.858398 -1354.474265  -885.763272  \n",
       "2    -1113.132106  -931.093781 -1061.561537  \n",
       "3    -1087.828749 -1455.107821  -919.133497  \n",
       "4    -1099.661210 -1299.634089 -1057.505691  \n",
       "...           ...          ...          ...  \n",
       "5082 -1020.913507 -1370.576897  -812.355366  \n",
       "5083  -102.878324  1148.419498  -619.175581  \n",
       "5084  -393.151632 -1441.684849  -892.841141  \n",
       "5085 -1213.744110 -1177.626150  -907.943725  \n",
       "5086 -1258.240092  -980.910562  -941.406153  \n",
       "\n",
       "[5087 rows x 13 columns]"
      ]
     },
     "execution_count": 10,
     "metadata": {},
     "output_type": "execute_result"
    }
   ],
   "source": [
    "df = pd.DataFrame(df)\n",
    "df"
   ]
  },
  {
   "cell_type": "code",
   "execution_count": 11,
   "id": "112eaf36",
   "metadata": {},
   "outputs": [
    {
     "data": {
      "application/vnd.jupyter.widget-view+json": {
       "model_id": "23dd204129f04558b91cb9d289677d9b",
       "version_major": 2,
       "version_minor": 0
      },
      "text/plain": [
       "Summarize dataset:   0%|          | 0/27 [00:00<?, ?it/s]"
      ]
     },
     "metadata": {},
     "output_type": "display_data"
    },
    {
     "data": {
      "application/vnd.jupyter.widget-view+json": {
       "model_id": "6e0d1e9008e9437fa7e248125404fb02",
       "version_major": 2,
       "version_minor": 0
      },
      "text/plain": [
       "Generate report structure:   0%|          | 0/1 [00:00<?, ?it/s]"
      ]
     },
     "metadata": {},
     "output_type": "display_data"
    },
    {
     "data": {
      "application/vnd.jupyter.widget-view+json": {
       "model_id": "215103c4ff1244748716013a11c578a6",
       "version_major": 2,
       "version_minor": 0
      },
      "text/plain": [
       "Render HTML:   0%|          | 0/1 [00:00<?, ?it/s]"
      ]
     },
     "metadata": {},
     "output_type": "display_data"
    },
    {
     "data": {
      "application/vnd.jupyter.widget-view+json": {
       "model_id": "00d428a087c4420895754b5945224996",
       "version_major": 2,
       "version_minor": 0
      },
      "text/plain": [
       "Export report to file:   0%|          | 0/1 [00:00<?, ?it/s]"
      ]
     },
     "metadata": {},
     "output_type": "display_data"
    }
   ],
   "source": [
    "profile = ProfileReport(df)\n",
    "profile.to_file('profile.html')"
   ]
  },
  {
   "cell_type": "code",
   "execution_count": 12,
   "id": "ce8c800a",
   "metadata": {},
   "outputs": [
    {
     "data": {
      "text/plain": [
       "0        AxesSubplot(0.125,0.786098;0.352273x0.0939024)\n",
       "1     AxesSubplot(0.547727,0.786098;0.352273x0.0939024)\n",
       "2        AxesSubplot(0.125,0.673415;0.352273x0.0939024)\n",
       "3     AxesSubplot(0.547727,0.673415;0.352273x0.0939024)\n",
       "4        AxesSubplot(0.125,0.560732;0.352273x0.0939024)\n",
       "5     AxesSubplot(0.547727,0.560732;0.352273x0.0939024)\n",
       "6        AxesSubplot(0.125,0.448049;0.352273x0.0939024)\n",
       "7     AxesSubplot(0.547727,0.448049;0.352273x0.0939024)\n",
       "8        AxesSubplot(0.125,0.335366;0.352273x0.0939024)\n",
       "9     AxesSubplot(0.547727,0.335366;0.352273x0.0939024)\n",
       "10       AxesSubplot(0.125,0.222683;0.352273x0.0939024)\n",
       "11    AxesSubplot(0.547727,0.222683;0.352273x0.0939024)\n",
       "12           AxesSubplot(0.125,0.11;0.352273x0.0939024)\n",
       "dtype: object"
      ]
     },
     "execution_count": 12,
     "metadata": {},
     "output_type": "execute_result"
    },
    {
     "data": {
      "image/png": "[encoded data removed]",
      "text/plain": [
       "<Figure size 1500x2000 with 14 Axes>"
      ]
     },
     "metadata": {},
     "output_type": "display_data"
    }
   ],
   "source": [
    "df.plot(kind=\"box\",subplots=True,layout=(7,2),figsize=(15,20))"
   ]
  },
  {
   "cell_type": "code",
   "execution_count": 13,
   "id": "26a62c3b",
   "metadata": {},
   "outputs": [
    {
     "data": {
      "text/plain": [
       "(5087, 13)"
      ]
     },
     "execution_count": 13,
     "metadata": {},
     "output_type": "execute_result"
    }
   ],
   "source": [
    "df.shape"
   ]
  },
  {
   "cell_type": "code",
   "execution_count": 14,
   "id": "3eb2de3c",
   "metadata": {},
   "outputs": [
    {
     "data": {
      "text/plain": [
       "array([8.40769843e-04, 6.53799846e-04, 6.46516294e-05, ...,\n",
       "       4.47089940e-04, 6.27311665e-04, 6.57202196e-04])"
      ]
     },
     "execution_count": 14,
     "metadata": {},
     "output_type": "execute_result"
    }
   ],
   "source": [
    "ext = ExtraTreesClassifier()\n",
    "ext.fit(X,y)\n",
    "ext.feature_importances_"
   ]
  },
  {
   "cell_type": "code",
   "execution_count": 15,
   "id": "36f65102",
   "metadata": {},
   "outputs": [
    {
     "data": {
      "text/plain": [
       "<AxesSubplot:>"
      ]
     },
     "execution_count": 15,
     "metadata": {},
     "output_type": "execute_result"
    },
    {
     "data": {
      "image/png": "[encoded data removed]",
      "text/plain": [
       "<Figure size 640x480 with 1 Axes>"
      ]
     },
     "metadata": {},
     "output_type": "display_data"
    }
   ],
   "source": [
    "rank = pd.Series(ext.feature_importances_, index=X.columns)\n",
    "rank.nlargest(10).plot(kind='barh')"
   ]
  },
  {
   "cell_type": "markdown",
   "id": "ce92ce18",
   "metadata": {},
   "source": [
    "# Almost similar importance"
   ]
  },
  {
   "cell_type": "markdown",
   "id": "85453151",
   "metadata": {},
   "source": [
    "## Checking ratio of output feature - imbalance checking"
   ]
  },
  {
   "cell_type": "code",
   "execution_count": 24,
   "id": "b46b8696",
   "metadata": {},
   "outputs": [
    {
     "data": {
      "text/plain": [
       "1    5050\n",
       "2      37\n",
       "Name: LABEL, dtype: int64"
      ]
     },
     "execution_count": 24,
     "metadata": {},
     "output_type": "execute_result"
    }
   ],
   "source": [
    "y.value_counts()"
   ]
  },
  {
   "cell_type": "code",
   "execution_count": 18,
   "id": "ee5fedf5",
   "metadata": {},
   "outputs": [],
   "source": [
    "sm = SMOTETomek(random_state=42)"
   ]
  },
  {
   "cell_type": "code",
   "execution_count": 19,
   "id": "2a01fd41",
   "metadata": {},
   "outputs": [],
   "source": [
    "Xnew, ynew = sm.fit_resample(X,y)"
   ]
  },
  {
   "cell_type": "code",
   "execution_count": 26,
   "id": "00a9da58",
   "metadata": {},
   "outputs": [
    {
     "name": "stdout",
     "output_type": "stream",
     "text": [
      "OG : Counter({1: 5050, 2: 37})\n",
      "After Sampling : Counter({2: 5050, 1: 5050})\n"
     ]
    }
   ],
   "source": [
    "print('OG : ' + str(Counter(y)))\n",
    "print('After Sampling : ' + str(Counter(ynew)))"
   ]
  },
  {
   "cell_type": "code",
   "execution_count": 27,
   "id": "9b6e1492",
   "metadata": {},
   "outputs": [
    {
     "name": "stdout",
     "output_type": "stream",
     "text": [
      "(7070, 3197) (3030, 3197) (7070,) (3030,)\n"
     ]
    }
   ],
   "source": [
    "Xtrain, Xtest, ytrain, ytest = train_test_split(Xnew, ynew, train_size=0.7, random_state=42)\n",
    "print(Xtrain.shape, Xtest.shape, ytrain.shape, ytest.shape)"
   ]
  },
  {
   "cell_type": "markdown",
   "id": "99a4089c",
   "metadata": {},
   "source": [
    "## Random Forest"
   ]
  },
  {
   "cell_type": "code",
   "execution_count": 29,
   "id": "bc8e55f8",
   "metadata": {},
   "outputs": [
    {
     "data": {
      "text/plain": [
       "0.999009900990099"
      ]
     },
     "execution_count": 29,
     "metadata": {},
     "output_type": "execute_result"
    }
   ],
   "source": [
    "rf = RandomForestClassifier()\n",
    "rf.fit(Xtrain, ytrain)\n",
    "accuracy_score(ytest, rf.predict(Xtest))"
   ]
  },
  {
   "cell_type": "code",
   "execution_count": 30,
   "id": "86b21921",
   "metadata": {},
   "outputs": [
    {
     "data": {
      "text/plain": [
       "array([[1561,    3],\n",
       "       [   0, 1466]], dtype=int64)"
      ]
     },
     "execution_count": 30,
     "metadata": {},
     "output_type": "execute_result"
    }
   ],
   "source": [
    "confusion_matrix(ytest, rf.predict(Xtest))"
   ]
  },
  {
   "cell_type": "markdown",
   "id": "b86f719b",
   "metadata": {},
   "source": [
    "## HistGBM"
   ]
  },
  {
   "cell_type": "code",
   "execution_count": 31,
   "id": "23a73dd6",
   "metadata": {},
   "outputs": [
    {
     "data": {
      "text/plain": [
       "0.9986798679867986"
      ]
     },
     "execution_count": 31,
     "metadata": {},
     "output_type": "execute_result"
    }
   ],
   "source": [
    "hist = HistGradientBoostingClassifier()\n",
    "hist.fit(Xtrain, ytrain)\n",
    "accuracy_score(ytest, hist.predict(Xtest))"
   ]
  },
  {
   "cell_type": "markdown",
   "id": "d06a9ad7",
   "metadata": {},
   "source": [
    "## XGB"
   ]
  },
  {
   "cell_type": "code",
   "execution_count": 38,
   "id": "7770c087",
   "metadata": {},
   "outputs": [],
   "source": [
    "ytrain_c = LabelEncoder().fit_transform(ytrain)\n",
    "ytest_c = LabelEncoder().fit_transform(ytest)"
   ]
  },
  {
   "cell_type": "code",
   "execution_count": 39,
   "id": "54822e8d",
   "metadata": {},
   "outputs": [
    {
     "data": {
      "text/plain": [
       "0.999009900990099"
      ]
     },
     "execution_count": 39,
     "metadata": {},
     "output_type": "execute_result"
    }
   ],
   "source": [
    "xgb = XGBClassifier()\n",
    "xgb.fit(Xtrain, ytrain_c)\n",
    "accuracy_score(ytest_c, xgb.predict(Xtest))"
   ]
  },
  {
   "cell_type": "markdown",
   "id": "3db15a74",
   "metadata": {},
   "source": [
    "## Lightgbm"
   ]
  },
  {
   "cell_type": "code",
   "execution_count": 41,
   "id": "36eb4244",
   "metadata": {},
   "outputs": [],
   "source": [
    "lgbm = lightgbm.LGBMClassifier()"
   ]
  },
  {
   "cell_type": "code",
   "execution_count": 42,
   "id": "adf496c9",
   "metadata": {},
   "outputs": [
    {
     "data": {
      "text/plain": [
       "0.9986798679867986"
      ]
     },
     "execution_count": 42,
     "metadata": {},
     "output_type": "execute_result"
    }
   ],
   "source": [
    "lgbm.fit(Xtrain, ytrain)\n",
    "accuracy_score(ytest, lgbm.predict(Xtest))"
   ]
  },
  {
   "cell_type": "markdown",
   "id": "73ee3b2a",
   "metadata": {},
   "source": [
    "## Decision Trees"
   ]
  },
  {
   "cell_type": "code",
   "execution_count": 44,
   "id": "40440325",
   "metadata": {},
   "outputs": [
    {
     "data": {
      "text/plain": [
       "0.007920792079207921"
      ]
     },
     "execution_count": 44,
     "metadata": {},
     "output_type": "execute_result"
    }
   ],
   "source": [
    "dt = DecisionTreeClassifier()\n",
    "dt.fit(Xtrain,ytrain)\n",
    "accuracy_score(ytest_c, dt.predict(Xtest))"
   ]
  },
  {
   "cell_type": "markdown",
   "id": "5afb958b",
   "metadata": {},
   "source": [
    "## Logistic Regression"
   ]
  },
  {
   "cell_type": "code",
   "execution_count": 46,
   "id": "ee435ae3",
   "metadata": {},
   "outputs": [
    {
     "data": {
      "text/plain": [
       "0.8148514851485148"
      ]
     },
     "execution_count": 46,
     "metadata": {},
     "output_type": "execute_result"
    }
   ],
   "source": [
    "lr = LogisticRegression()\n",
    "lr.fit(Xtrain, ytrain)\n",
    "accuracy_score(ytest, lr.predict(Xtest))"
   ]
  },
  {
   "cell_type": "markdown",
   "id": "44826e56",
   "metadata": {},
   "source": [
    "## SVM"
   ]
  },
  {
   "cell_type": "code",
   "execution_count": 47,
   "id": "6c928b33",
   "metadata": {},
   "outputs": [
    {
     "data": {
      "text/plain": [
       "0.9706270627062706"
      ]
     },
     "execution_count": 47,
     "metadata": {},
     "output_type": "execute_result"
    }
   ],
   "source": [
    "svm = NuSVC()\n",
    "svm.fit(Xtrain, ytrain)\n",
    "accuracy_score(ytest, svm.predict(Xtest))"
   ]
  },
  {
   "cell_type": "markdown",
   "id": "097cd1a5",
   "metadata": {},
   "source": [
    "## KNN"
   ]
  },
  {
   "cell_type": "code",
   "execution_count": 48,
   "id": "a1831374",
   "metadata": {},
   "outputs": [
    {
     "data": {
      "text/plain": [
       "0.9834983498349835"
      ]
     },
     "execution_count": 48,
     "metadata": {},
     "output_type": "execute_result"
    }
   ],
   "source": [
    "knn = KNeighborsClassifier()\n",
    "knn.fit(Xtrain, ytrain)\n",
    "accuracy_score(ytest, knn.predict(Xtest))"
   ]
  },
  {
   "cell_type": "markdown",
   "id": "944f1bf8",
   "metadata": {},
   "source": [
    "## Top 3 algorithms (without parameter tuning)- \n",
    "\n",
    "1. Random Forest/XGBoost\n",
    "2. Light Gradient Boosting\n",
    "3. K-Nearest Neighbors"
   ]
  },
  {
   "cell_type": "markdown",
   "id": "63bebbe0",
   "metadata": {},
   "source": [
    "## Future Scope - \n",
    "\n",
    "### Using advanced neural networks"
   ]
  },
  {
   "cell_type": "code",
   "execution_count": null,
   "id": "598fef9b",
   "metadata": {},
   "outputs": [],
   "source": []
  }
 ],
 "metadata": {
  "kernelspec": {
   "display_name": "Python 3 (ipykernel)",
   "language": "python",
   "name": "python3"
  },
  "language_info": {
   "codemirror_mode": {
    "name": "ipython",
    "version": 3
   },
   "file_extension": ".py",
   "mimetype": "text/x-python",
   "name": "python",
   "nbconvert_exporter": "python",
   "pygments_lexer": "ipython3",
   "version": "3.9.13"
  }
 },
 "nbformat": 4,
 "nbformat_minor": 5
}
